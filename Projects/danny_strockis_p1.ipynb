{
 "cells": [
  {
   "cell_type": "markdown",
   "metadata": {},
   "source": [
    "# Project 1: Digit Classification with KNN and Naive Bayes"
   ]
  },
  {
   "cell_type": "markdown",
   "metadata": {},
   "source": [
    "In this project, you'll implement your own image recognition system for classifying digits. Read through the code and the instructions carefully and add your own code where indicated. Each problem can be addressed succinctly with the included packages -- please don't add any more. Grading will be based on writing clean, commented code, along with a few short answers.\n",
    "\n",
    "As always, you're welcome to work on the project in groups and discuss ideas on the course wall, but <b> please prepare your own write-up (with your own code). </b>\n",
    "\n",
    "If you're interested, check out these links related to digit recognition:\n",
    "\n",
    "Yann Lecun's MNIST benchmarks: http://yann.lecun.com/exdb/mnist/\n",
    "\n",
    "Stanford Streetview research and data: http://ufldl.stanford.edu/housenumbers/"
   ]
  },
  {
   "cell_type": "code",
   "execution_count": 1,
   "metadata": {},
   "outputs": [
    {
     "name": "stderr",
     "output_type": "stream",
     "text": [
      "/Users/strockis/Source/miniconda2/envs/mids/lib/python2.7/site-packages/sklearn/cross_validation.py:41: DeprecationWarning: This module was deprecated in version 0.18 in favor of the model_selection module into which all the refactored classes and functions are moved. Also note that the interface of the new CV iterators are different from that of this module. This module will be removed in 0.20.\n",
      "  \"This module will be removed in 0.20.\", DeprecationWarning)\n",
      "/Users/strockis/Source/miniconda2/envs/mids/lib/python2.7/site-packages/sklearn/grid_search.py:42: DeprecationWarning: This module was deprecated in version 0.18 in favor of the model_selection module into which all the refactored classes and functions are moved. This module will be removed in 0.20.\n",
      "  DeprecationWarning)\n"
     ]
    }
   ],
   "source": [
    "# This tells matplotlib not to try opening a new window for each plot.\n",
    "%matplotlib inline\n",
    "\n",
    "# Import a bunch of libraries.\n",
    "import time\n",
    "import numpy as np\n",
    "import matplotlib.pyplot as plt\n",
    "from matplotlib.ticker import MultipleLocator\n",
    "from sklearn.pipeline import Pipeline\n",
    "from sklearn.datasets import fetch_mldata\n",
    "from sklearn.neighbors import KNeighborsClassifier\n",
    "from sklearn.metrics import confusion_matrix\n",
    "from sklearn.linear_model import LinearRegression\n",
    "from sklearn.naive_bayes import BernoulliNB\n",
    "from sklearn.naive_bayes import MultinomialNB\n",
    "from sklearn.naive_bayes import GaussianNB\n",
    "from sklearn.grid_search import GridSearchCV\n",
    "from sklearn.metrics import classification_report\n",
    "\n",
    "# Set the randomizer seed so results are the same each time.\n",
    "np.random.seed(0)"
   ]
  },
  {
   "cell_type": "markdown",
   "metadata": {},
   "source": [
    "Load the data. Notice that we are splitting the data into training, development, and test. We also have a small subset of the training data called mini_train_data and mini_train_labels that you should use in all the experiments below, unless otherwise noted."
   ]
  },
  {
   "cell_type": "code",
   "execution_count": 2,
   "metadata": {},
   "outputs": [
    {
     "name": "stdout",
     "output_type": "stream",
     "text": [
      "data shape:  (70000, 784)\n",
      "label shape: (70000,)\n"
     ]
    }
   ],
   "source": [
    "# Load the digit data either from mldata.org, or once downloaded to data_home, from disk. The data is about 53MB so this cell\n",
    "# should take a while the first time your run it.\n",
    "mnist = fetch_mldata('MNIST original', data_home='~/datasets/mnist')\n",
    "X, Y = mnist.data, mnist.target\n",
    "\n",
    "# Rescale grayscale values to [0,1].\n",
    "X = X / 255.0\n",
    "\n",
    "# Shuffle the input: create a random permutation of the integers between 0 and the number of data points and apply this\n",
    "# permutation to X and Y.\n",
    "# NOTE: Each time you run this cell, you'll re-shuffle the data, resulting in a different ordering.\n",
    "shuffle = np.random.permutation(np.arange(X.shape[0]))\n",
    "X, Y = X[shuffle], Y[shuffle]\n",
    "\n",
    "print 'data shape: ', X.shape\n",
    "print 'label shape:', Y.shape\n",
    "\n",
    "# Set some variables to hold test, dev, and training data.\n",
    "test_data, test_labels = X[61000:], Y[61000:]\n",
    "dev_data, dev_labels = X[60000:61000], Y[60000:61000]\n",
    "train_data, train_labels = X[:60000], Y[:60000]\n",
    "mini_train_data, mini_train_labels = X[:1000], Y[:1000]"
   ]
  },
  {
   "cell_type": "markdown",
   "metadata": {},
   "source": [
    "(1) Create a 10x10 grid to visualize 10 examples of each digit. Python hints:\n",
    "\n",
    "- plt.rc() for setting the colormap, for example to black and white\n",
    "- plt.subplot() for creating subplots\n",
    "- plt.imshow() for rendering a matrix\n",
    "- np.array.reshape() for reshaping a 1D feature vector into a 2D matrix (for rendering)"
   ]
  },
  {
   "cell_type": "code",
   "execution_count": 3,
   "metadata": {},
   "outputs": [
    {
     "data": {
      "image/png": "[encoded data removed]",
      "text/plain": [
       "<matplotlib.figure.Figure at 0x1082f7d50>"
      ]
     },
     "metadata": {},
     "output_type": "display_data"
    }
   ],
   "source": [
    "def P1(num_examples=10):\n",
    "    \n",
    "### STUDENT START ###\n",
    "\n",
    "    # create a set of subplots, with rows for each digit 0-9\n",
    "    f, axes = plt.subplots(10, num_examples)\n",
    "    \n",
    "    # iterate through each row\n",
    "    for i in range(10):\n",
    "        \n",
    "        # construct set of images whose label is the value i\n",
    "        idxs = np.where(Y == i)\n",
    "        images = X[idxs]\n",
    "        \n",
    "        # iterate through the number of images requested\n",
    "        for j in range(num_examples):\n",
    "            \n",
    "            # reshape an image pixels into a 28x28 matrix\n",
    "            # MNIST data set represent images in 28x28 pixels boxes            \n",
    "            image = images[j].reshape(28,28)\n",
    "            \n",
    "            # plot the image in the appropriate grid location\n",
    "            axes[i, j].axis('off')\n",
    "            axes[i, j].imshow(image, cmap='Greys')\n",
    "            \n",
    "### STUDENT END ###\n",
    "\n",
    "P1(10)"
   ]
  },
  {
   "cell_type": "markdown",
   "metadata": {},
   "source": [
    "(2) Evaluate a K-Nearest-Neighbors model with k = [1,3,5,7,9] using the mini training set. Report accuracy on the dev set. For k=1, show precision, recall, and F1 for each label. Which is the most difficult digit?\n",
    "\n",
    "- KNeighborsClassifier() for fitting and predicting\n",
    "- classification_report() for producing precision, recall, F1 results"
   ]
  },
  {
   "cell_type": "code",
   "execution_count": 4,
   "metadata": {},
   "outputs": [
    {
     "name": "stdout",
     "output_type": "stream",
     "text": [
      "Classification Report for k=1\n",
      "-------------------------------\n",
      "             precision    recall  f1-score   support\n",
      "\n",
      "        0.0       0.91      0.98      0.94        99\n",
      "        1.0       0.89      1.00      0.94       105\n",
      "        2.0       0.99      0.79      0.88       102\n",
      "        3.0       0.77      0.87      0.82        86\n",
      "        4.0       0.89      0.82      0.85       104\n",
      "        5.0       0.93      0.84      0.88        91\n",
      "        6.0       0.94      0.96      0.95        98\n",
      "        7.0       0.89      0.92      0.90       113\n",
      "        8.0       0.94      0.88      0.91        96\n",
      "        9.0       0.78      0.82      0.80       106\n",
      "\n",
      "avg / total       0.89      0.89      0.89      1000\n",
      "\n",
      "Model accuracy for k=1 on dev set:0.888\n",
      "Model accuracy for k=3 on dev set:0.878\n",
      "Model accuracy for k=5 on dev set:0.869\n",
      "Model accuracy for k=7 on dev set:0.865\n",
      "Model accuracy for k=9 on dev set:0.863\n"
     ]
    }
   ],
   "source": [
    "def P2(k_values):\n",
    "\n",
    "### STUDENT START ###\n",
    "\n",
    "    # iterate over provided k values\n",
    "    for k in k_values:\n",
    "        assert k > 0\n",
    "        \n",
    "        # train a nearest neighbors classifier with k neighbors\n",
    "        model = KNeighborsClassifier(n_neighbors=k)\n",
    "        model.fit(mini_train_data, mini_train_labels)\n",
    "        \n",
    "        # for k=1, show a classification report\n",
    "        if k == 1:\n",
    "            print 'Classification Report for k={0}'.format(str(k))\n",
    "            print '-------------------------------'\n",
    "            dev_predicted = model.predict(dev_data)\n",
    "            print classification_report(dev_labels, dev_predicted)\n",
    "        \n",
    "        # for all k values, print the accuracy on the dev set\n",
    "        print ('Model accuracy for k={0} on dev set:' + str(model.score(dev_data, dev_labels))).format(str(k))\n",
    "        \n",
    "        \n",
    "### STUDENT END ###\n",
    "\n",
    "k_values = [1, 3, 5, 7, 9]\n",
    "P2(k_values)"
   ]
  },
  {
   "cell_type": "markdown",
   "metadata": {},
   "source": [
    "ANSWER: It looks like 9 is the most difficult digit for k=1."
   ]
  },
  {
   "cell_type": "markdown",
   "metadata": {},
   "source": [
    "(3) Using k=1, report dev set accuracy for the training set sizes below. Also, measure the amount of time needed for prediction with each training size.\n",
    "\n",
    "- time.time() gives a wall clock value you can use for timing operations"
   ]
  },
  {
   "cell_type": "code",
   "execution_count": 5,
   "metadata": {},
   "outputs": [
    {
     "name": "stdout",
     "output_type": "stream",
     "text": [
      "Time to score dev set in seconds for training size 100:0.1070728302\n",
      "Time to score dev set in seconds for training size 200:0.208530902863\n",
      "Time to score dev set in seconds for training size 400:0.43970489502\n",
      "Time to score dev set in seconds for training size 800:0.891546010971\n",
      "Time to score dev set in seconds for training size 1600:1.71004199982\n",
      "Time to score dev set in seconds for training size 3200:3.38286805153\n",
      "Time to score dev set in seconds for training size 6400:6.75679183006\n",
      "Time to score dev set in seconds for training size 12800:13.5695090294\n",
      "Time to score dev set in seconds for training size 25000:30.4957289696\n",
      "\n",
      "Accuracies for various training data sizes:\n",
      "-------------------------------\n",
      "[(100, 0.71999999999999997), (200, 0.78600000000000003), (400, 0.84099999999999997), (800, 0.88400000000000001), (1600, 0.90200000000000002), (3200, 0.92600000000000005), (6400, 0.93700000000000006), (12800, 0.95899999999999996), (25000, 0.96999999999999997)]\n"
     ]
    }
   ],
   "source": [
    "def P3(train_sizes, accuracies):\n",
    "\n",
    "### STUDENT START ###\n",
    "    \n",
    "    for size in train_sizes:\n",
    "        \n",
    "        model = KNeighborsClassifier(n_neighbors=1)\n",
    "        model.fit(train_data[:size], train_labels[:size])\n",
    "        \n",
    "        start = time.time()\n",
    "        accuracies.append(model.score(dev_data, dev_labels))\n",
    "        end = time.time()\n",
    "        print ('Time to score dev set in seconds for training size {0}:' +  str(end-start)).format(str(size))\n",
    "\n",
    "    print '\\nAccuracies for various training data sizes:'\n",
    "    print '-------------------------------'\n",
    "    print zip(train_sizes, accuracies)\n",
    "### STUDENT END ###\n",
    "\n",
    "train_sizes = [100, 200, 400, 800, 1600, 3200, 6400, 12800, 25000]\n",
    "accuracies = []\n",
    "P3(train_sizes, accuracies)"
   ]
  },
  {
   "cell_type": "markdown",
   "metadata": {},
   "source": [
    "(4) Fit a regression model that predicts accuracy from training size. What does it predict for n=60000? What's wrong with using regression here? Can you apply a transformation that makes the predictions more reasonable?\n",
    "\n",
    "- Remember that the sklearn fit() functions take an input matrix X and output vector Y. So each input example in X is a vector, even if it contains only a single value."
   ]
  },
  {
   "cell_type": "code",
   "execution_count": 125,
   "metadata": {},
   "outputs": [
    {
     "name": "stdout",
     "output_type": "stream",
     "text": [
      "Predicted Accuracy for n=60K: [ 1.24307226]\n"
     ]
    }
   ],
   "source": [
    "def P4():\n",
    "\n",
    "### STUDENT START ###\n",
    "\n",
    "    # construct matrix of training sizes and accuracies\n",
    "    X = np.array([train_sizes]).reshape(9,1)\n",
    "    Y = np.array(accuracies)\n",
    "    \n",
    "    # fit a linear model\n",
    "    model = LinearRegression()\n",
    "    model.fit(X, Y)\n",
    "    \n",
    "    # predict the accuracy for 60K entries\n",
    "    predicted_accuracy = model.predict(60000)\n",
    "    print 'Predicted Accuracy for n=60K: {0}'.format(str(predicted_accuracy))\n",
    "### STUDENT END ###\n",
    "\n",
    "P4()"
   ]
  },
  {
   "cell_type": "markdown",
   "metadata": {},
   "source": [
    "ANSWER: Oh look! We got greater than 100% accuracy! Regression is not the right tool here because it assumes a linear relationship between training size & accuracy, which is not true. A transformation from accuracy to log error ln(1-accuracy) would help make the relationship linear - for a unit increase in training data size, we might get a 1% decrease in error. For instance:"
   ]
  },
  {
   "cell_type": "code",
   "execution_count": 22,
   "metadata": {},
   "outputs": [
    {
     "name": "stdout",
     "output_type": "stream",
     "text": [
      "Predicted Accuracy for n=60K: [ 0.99842989]\n"
     ]
    }
   ],
   "source": [
    "X = np.array([train_sizes]).reshape(9,1)\n",
    "Y = np.array(accuracies)\n",
    "model = LinearRegression()\n",
    "model.fit(X, np.log(1-Y))\n",
    "predicted_accuracy = model.predict(60000)\n",
    "print 'Predicted Accuracy for n=60K: {0}'.format(str(1-np.exp(predicted_accuracy)))"
   ]
  },
  {
   "cell_type": "markdown",
   "metadata": {},
   "source": [
    "This result seems more reasonable."
   ]
  },
  {
   "cell_type": "markdown",
   "metadata": {},
   "source": [
    "Fit a 1-NN and output a confusion matrix for the dev data. Use the confusion matrix to identify the most confused pair of digits, and display a few example mistakes.\n",
    "\n",
    "- confusion_matrix() produces a confusion matrix"
   ]
  },
  {
   "cell_type": "code",
   "execution_count": 56,
   "metadata": {},
   "outputs": [
    {
     "name": "stdout",
     "output_type": "stream",
     "text": [
      "Confusion Matrix:\n",
      "----------------------------\n",
      "[[ 99   0   0   0   0   0   0   0   0   0]\n",
      " [  0 105   0   0   0   0   0   0   0   0]\n",
      " [  1   0  98   2   0   0   0   1   0   0]\n",
      " [  0   0   0  83   0   1   0   0   1   1]\n",
      " [  0   0   0   0 102   0   0   0   0   2]\n",
      " [  1   0   0   0   0  88   0   0   1   1]\n",
      " [  1   0   0   0   1   0  96   0   0   0]\n",
      " [  0   0   1   0   0   0   0 111   0   1]\n",
      " [  1   0   1   2   0   2   1   0  89   0]\n",
      " [  0   0   0   0   0   0   0   0   0 106]]\n",
      "\n",
      "Most confused digit combination is 5, 8 with 3 incorrect predictions\n"
     ]
    },
    {
     "data": {
      "image/png": "[encoded data removed]",
      "text/plain": [
       "<matplotlib.figure.Figure at 0x121b61410>"
      ]
     },
     "metadata": {},
     "output_type": "display_data"
    }
   ],
   "source": [
    "def P5():\n",
    "\n",
    "### STUDENT START ###\n",
    "    \n",
    "    # Train 1-NN and make predictions with dev data\n",
    "    model = KNeighborsClassifier(n_neighbors=1)\n",
    "    model.fit(train_data, train_labels)\n",
    "    predictions = model.predict(dev_data)\n",
    "    matrix = confusion_matrix(dev_labels, predictions)\n",
    "    print 'Confusion Matrix:'\n",
    "    print '----------------------------'\n",
    "    print matrix\n",
    "    \n",
    "    # Calculate most confusing pair of digits\n",
    "    max_incorrect_combo = ''\n",
    "    max_incorrect_combo_count = 0\n",
    "    \n",
    "    # Iterate over every combination, ignoring accurate predictions\n",
    "    for i in range(len(matrix)):\n",
    "        for j in range(len(matrix)):\n",
    "            if j <= i:\n",
    "                continue\n",
    "            \n",
    "            # count the incorrect predictions for this combo\n",
    "            count_incorrect = matrix[i][j] + matrix[j][i]\n",
    "            \n",
    "            # record the most confusing combination (take the most recent for ties)\n",
    "            if count_incorrect >= max_incorrect_combo_count:\n",
    "                max_incorrect_combo_count = count_incorrect\n",
    "                max_incorrect_combo = '{0}, {1}'.format(str(i), str(j))\n",
    "\n",
    "    # Output most confusing digits\n",
    "    print '\\nMost confused digit combination is {0} with {1} incorrect predictions'.format(\n",
    "        max_incorrect_combo, str(max_incorrect_combo_count)\n",
    "    )\n",
    "    \n",
    "    # Now print out a few of the digits that were misclassified\n",
    "    # Get the indexes of the incorrect predictions\n",
    "    idxs = (np.where(predictions == 5) \\\n",
    "            and np.where(dev_labels == 8)) \\\n",
    "            or (np.where(predictions == 8) \\\n",
    "                and np.where(dev_labels == 5))\n",
    "\n",
    "    # create plots for each incorrect image\n",
    "    f, axes = plt.subplots(max_incorrect_combo_count)\n",
    "\n",
    "    # iterate through each image\n",
    "    for i in range(max_incorrect_combo_count):\n",
    "\n",
    "        # get images, resize them\n",
    "        images = dev_data[idxs]           \n",
    "        image = images[i].reshape(28,28)\n",
    "\n",
    "        # plot the image in the appropriate grid location\n",
    "        axes[i].axis('off')\n",
    "        axes[i].imshow(image, cmap='Greys')\n",
    "    \n",
    "### STUDENT END ###\n",
    "\n",
    "P5()"
   ]
  },
  {
   "cell_type": "markdown",
   "metadata": {},
   "source": [
    "(6) A common image processing technique is to smooth an image by blurring. The idea is that the value of a particular pixel is estimated as the weighted combination of the original value and the values around it. Typically, the blurring is Gaussian -- that is, the weight of a pixel's influence is determined by a Gaussian function over the distance to the relevant pixel.\n",
    "\n",
    "Implement a simplified Gaussian blur by just using the 8 neighboring pixels: the smoothed value of a pixel is a weighted combination of the original value and the 8 neighboring values. Try applying your blur filter in 3 ways:\n",
    "- preprocess the training data but not the dev data\n",
    "- preprocess the dev data but not the training data\n",
    "- preprocess both training and dev data\n",
    "\n",
    "Note that there are Guassian blur filters available, for example in scipy.ndimage.filters. You're welcome to experiment with those, but you are likely to get the best results with the simplified version I described above."
   ]
  },
  {
   "cell_type": "code",
   "execution_count": 128,
   "metadata": {},
   "outputs": [
    {
     "data": {
      "text/plain": [
       "[-4, -3, -2, -1, 0, 1, 2, 3, 4]"
      ]
     },
     "execution_count": 128,
     "metadata": {},
     "output_type": "execute_result"
    }
   ],
   "source": [
    "range(-4,5)"
   ]
  },
  {
   "cell_type": "code",
   "execution_count": 177,
   "metadata": {},
   "outputs": [
    {
     "name": "stdout",
     "output_type": "stream",
     "text": [
      "Unblurred image 1-NN accuracy: 0.888\n",
      "Blurred training image 1-NN accuracy: 0.834\n",
      "Blurred dev image 1-NN accuracy: 0.105\n",
      "Blurred train & dev image 1-NN accuracy: 0.895\n"
     ]
    }
   ],
   "source": [
    "from __future__ import division\n",
    "from scipy.ndimage.filters import gaussian_filter\n",
    "def P6():\n",
    "    \n",
    "### STUDENT START ###\n",
    "    \n",
    "    # method to convert pixels to blurred pixels\n",
    "    def gaussian_blur(images):\n",
    "        blurred_images = np.zeros(images.shape)\n",
    "        \n",
    "        # for each image in the set\n",
    "        for k in range(len(images)):\n",
    "            image = images[k]\n",
    "            blurred_image = np.zeros(len(image))\n",
    "            \n",
    "            # for each pixel in the image\n",
    "            for i in range(len(image)):\n",
    "                count = 0\n",
    "                tally = 0\n",
    "                \n",
    "                # include the neighboring 8 pixels\n",
    "                for j in range(-4,5):\n",
    "                    \n",
    "                    # check that the neighboring pixels exist\n",
    "                    if i + j >= 0 and i + j < len(image):\n",
    "                        \n",
    "                        # if they exist, include in our moving average calcuation\n",
    "                        count += 1\n",
    "                        \n",
    "                        # weight the pixels contribution to the moving average\n",
    "                        # by a gaussian function of its distance to the pixel\n",
    "                        # note: distance is defined 1-dimensionally here, not 2D\n",
    "                        tally += (image[i+j] * np.exp(-1*(0.5)*j**2))\n",
    "                \n",
    "                # compute the blurred pixel value (moving average) for the image\n",
    "                blurred_image[i] = tally / count\n",
    "            \n",
    "            blurred_images[k] = blurred_image\n",
    "        return blurred_images\n",
    "    \n",
    "    blurred_train_data = gaussian_blur(mini_train_data)\n",
    "    blurred_dev_data = gaussian_blur(dev_data)\n",
    "    \n",
    "    model = KNeighborsClassifier(n_neighbors=1)\n",
    "    model.fit(mini_train_data, mini_train_labels)\n",
    "    accuracy = model.score(dev_data, dev_labels)\n",
    "    print 'Unblurred image 1-NN accuracy: {0}'.format(accuracy)\n",
    "    \n",
    "    model = KNeighborsClassifier(n_neighbors=1)\n",
    "    model.fit(blurred_train_data, mini_train_labels)\n",
    "    accuracy = model.score(dev_data, dev_labels)\n",
    "    print 'Blurred training image 1-NN accuracy: {0}'.format(accuracy)\n",
    "    \n",
    "    model = KNeighborsClassifier(n_neighbors=1)\n",
    "    model.fit(mini_train_data, mini_train_labels)\n",
    "    accuracy = model.score(blurred_dev_data, dev_labels)\n",
    "    print 'Blurred dev image 1-NN accuracy: {0}'.format(accuracy)\n",
    "    \n",
    "    model = KNeighborsClassifier(n_neighbors=1)\n",
    "    model.fit(blurred_train_data, mini_train_labels)\n",
    "    accuracy = model.score(blurred_dev_data, dev_labels)\n",
    "    print 'Blurred train & dev image 1-NN accuracy: {0}'.format(accuracy)\n",
    "    \n",
    "### STUDENT END ###\n",
    "\n",
    "P6()"
   ]
  },
  {
   "cell_type": "markdown",
   "metadata": {},
   "source": [
    "ANSWER: It appears that blurring both the training data and the dev data proved useful in the accuracy of our model, giving us a .007 increase. Blurring one set but not the other hurt our model, especially when we only blurred the dev set."
   ]
  },
  {
   "cell_type": "markdown",
   "metadata": {},
   "source": [
    "(7) Fit a Naive Bayes classifier and report accuracy on the dev data. Remember that Naive Bayes estimates P(feature|label). While sklearn can handle real-valued features, let's start by mapping the pixel values to either 0 or 1. You can do this as a preprocessing step, or with the binarize argument. With binary-valued features, you can use BernoulliNB. Next try mapping the pixel values to 0, 1, or 2, representing white, grey, or black. This mapping requires MultinomialNB. Does the multi-class version improve the results? Why or why not?"
   ]
  },
  {
   "cell_type": "code",
   "execution_count": 64,
   "metadata": {},
   "outputs": [
    {
     "name": "stdout",
     "output_type": "stream",
     "text": [
      "Binary feature NB classifier accuracy: 0.809\n",
      "Trinary feature NB classifier accuracy: 0.827\n"
     ]
    }
   ],
   "source": [
    "def P7():\n",
    "\n",
    "### STUDENT START ###\n",
    "\n",
    "    # convert image to binary representation\n",
    "    def binarize_func(val):\n",
    "        if val >= 0.5:\n",
    "            return 1\n",
    "        else:\n",
    "            return 0\n",
    "    \n",
    "    binarize = np.vectorize(binarize_func)\n",
    "    binary_train_data = binarize(train_data)\n",
    "    \n",
    "    # fit model, and compute accuracy\n",
    "    model = BernoulliNB()\n",
    "    model.fit(binary_train_data, train_labels)\n",
    "    accuracy = model.score(dev_data, dev_labels)\n",
    "    print 'Binary feature NB classifier accuracy: {0}'.format(str(accuracy))\n",
    "    \n",
    "    # now convert image to white, gray, black representation\n",
    "    def trinarize_func(val):\n",
    "        if val >= 0.66:\n",
    "            return 2\n",
    "        elif val >= 0.33:\n",
    "            return 1\n",
    "        else:\n",
    "            return 0\n",
    "    \n",
    "    trinarize = np.vectorize(trinarize_func)\n",
    "    trinary_train_data = trinarize(train_data)\n",
    "    \n",
    "    # compute accuracy and compare\n",
    "    model = MultinomialNB()\n",
    "    model.fit(trinary_train_data, train_labels)\n",
    "    accuracy = model.score(dev_data, dev_labels)\n",
    "    print 'Trinary feature NB classifier accuracy: {0}'.format(str(accuracy))\n",
    "    \n",
    "### STUDENT END ###\n",
    "\n",
    "P7()"
   ]
  },
  {
   "cell_type": "markdown",
   "metadata": {},
   "source": [
    "ANSWER: Yes, the trinary model performs a bit better because it provides additional detail about the intensity of the pixel, which can be used to distinguish between differt digits."
   ]
  },
  {
   "cell_type": "markdown",
   "metadata": {},
   "source": [
    "(8) Use GridSearchCV to perform a search over values of alpha (the Laplace smoothing parameter) in a Bernoulli NB model. What is the best value for alpha? What is the accuracy when alpha=0? Is this what you'd expect?\n",
    "\n",
    "- Note that GridSearchCV partitions the training data so the results will be a bit different than if you used the dev data for evaluation."
   ]
  },
  {
   "cell_type": "code",
   "execution_count": 74,
   "metadata": {},
   "outputs": [],
   "source": [
    "def P8(alphas):\n",
    "\n",
    "### STUDENT START ###\n",
    "\n",
    "    # convert the pixels to ones & zeros\n",
    "    def binarize_func(val):\n",
    "        if val >= 0.5:\n",
    "            return 1\n",
    "        else:\n",
    "            return 0\n",
    "    \n",
    "    binarize = np.vectorize(binarize_func)\n",
    "    binary_train_data = binarize(train_data)\n",
    "    \n",
    "    # train simple NB models with various alpha values\n",
    "    model = GridSearchCV(BernoulliNB(), alphas, scoring='accuracy')\n",
    "    model.fit(binary_train_data, train_labels)\n",
    "    \n",
    "    return model\n",
    "\n",
    "### STUDENT END ###\n",
    "\n",
    "alphas = {'alpha': [0.0, 0.0001, 0.001, 0.01, 0.1, 0.5, 1.0, 2.0, 10.0]}\n",
    "nb = P8(alphas)"
   ]
  },
  {
   "cell_type": "code",
   "execution_count": 76,
   "metadata": {},
   "outputs": [
    {
     "name": "stdout",
     "output_type": "stream",
     "text": [
      "{'alpha': 0.0}\n",
      "0.837116666667\n"
     ]
    }
   ],
   "source": [
    "print nb.best_params_\n",
    "print nb.best_score_"
   ]
  },
  {
   "cell_type": "markdown",
   "metadata": {},
   "source": [
    "ANSWER: Alpha = 0 turned out to be the best value, with an accuracy of 0.837. I would expect this, because the binarized features prevents overfitting. If we had gone with the raw data, higher values of alpha would have proven useful to prevent overfitting."
   ]
  },
  {
   "cell_type": "markdown",
   "metadata": {},
   "source": [
    "(9) Try training a model using GuassianNB, which is intended for real-valued features, and evaluate on the dev data. You'll notice that it doesn't work so well. Try to diagnose the problem. You should be able to find a simple fix that returns the accuracy to around the same rate as BernoulliNB. Explain your solution.\n",
    "\n",
    "Hint: examine the parameters estimated by the fit() method, theta\\_ and sigma\\_."
   ]
  },
  {
   "cell_type": "code",
   "execution_count": 174,
   "metadata": {},
   "outputs": [
    {
     "name": "stdout",
     "output_type": "stream",
     "text": [
      "Basic Gaussian accuracy: 0.571\n",
      "\n",
      "Transformed Gaussian accuracy: 0.575\n",
      "\n"
     ]
    }
   ],
   "source": [
    "def P9():\n",
    "\n",
    "### STUDENT END ###\n",
    "\n",
    "    model = GaussianNB()\n",
    "    model.fit(train_data, train_labels)\n",
    "    accuracy = model.score(dev_data, dev_labels)\n",
    "    print 'Basic Gaussian accuracy: {0}\\n'.format(str(accuracy))\n",
    "    \n",
    "    model = GaussianNB()\n",
    "    model.fit(-1 * np.log(train_data + 0.01), train_labels)\n",
    "    accuracy = model.score(-1 * np.log(dev_data + 0.01), dev_labels)\n",
    "    print 'Transformed Gaussian accuracy: {0}\\n'.format(str(accuracy))\n",
    "\n",
    "### STUDENT END ###\n",
    "\n",
    "gnb = P9()"
   ]
  },
  {
   "cell_type": "markdown",
   "metadata": {},
   "source": [
    "ANSWER: I tried performing a log tranform above, as well as a few other tricks, but couldn't get the gaussian accuracy to come back up to previous levels. So not sure what the simple fix was. "
   ]
  },
  {
   "cell_type": "markdown",
   "metadata": {},
   "source": [
    "(10) Because Naive Bayes is a generative model, we can use the trained model to generate digits. Train a BernoulliNB model and then generate a 10x20 grid with 20 examples of each digit. Because you're using a Bernoulli model, each pixel output will be either 0 or 1. How do the generated digits compare to the training digits?\n",
    "\n",
    "- You can use np.random.rand() to generate random numbers from a uniform distribution\n",
    "- The estimated probability of each pixel is stored in feature\\_log\\_prob\\_. You'll need to use np.exp() to convert a log probability back to a probability."
   ]
  },
  {
   "cell_type": "code",
   "execution_count": 103,
   "metadata": {},
   "outputs": [
    {
     "data": {
      "image/png": "[encoded data removed]",
      "text/plain": [
       "<matplotlib.figure.Figure at 0x1218b9910>"
      ]
     },
     "metadata": {},
     "output_type": "display_data"
    }
   ],
   "source": [
    "def P10(num_examples):\n",
    "\n",
    "### STUDENT START ###\n",
    "\n",
    "    # binarize the pixels\n",
    "    def binarize_func(val):\n",
    "        if val >= 0.5:\n",
    "            return 1\n",
    "        else:\n",
    "            return 0\n",
    "    \n",
    "    binarize = np.vectorize(binarize_func)\n",
    "    binary_train_data = binarize(train_data)\n",
    "    \n",
    "    # train the naive bayes model\n",
    "    model = BernoulliNB()\n",
    "    model.fit(binary_train_data, train_labels)\n",
    "    \n",
    "    # extract the pixel probabilities from the model\n",
    "    pixel_probs = np.exp(model.feature_log_prob_)\n",
    "    \n",
    "    # construct a set of randomly generated images\n",
    "    images = []\n",
    "    \n",
    "    # for digits 0-9\n",
    "    for k in range(len(pixel_probs)):\n",
    "        \n",
    "        images.append([])\n",
    "        \n",
    "        # generate n images\n",
    "        for j in range(num_examples):\n",
    "            \n",
    "            random_digit = np.zeros(len(pixel_probs[k]))\n",
    "            \n",
    "            # for each pixel, assign the pixel to 1 or 0\n",
    "            # according to the probability of that pixel given\n",
    "            # the class of the image.\n",
    "            for i in range(len(pixel_probs[k])):\n",
    "                random_digit[i] = np.random.binomial(1, pixel_probs[k][i])\n",
    "            images[k].append(random_digit)\n",
    "    \n",
    "    # create a set of subplots, with rows for each digit 0-9\n",
    "    f, axes = plt.subplots(10, num_examples)\n",
    "    \n",
    "    # iterate through each row\n",
    "    for i in range(10):\n",
    "        \n",
    "        # iterate through the number of images requested\n",
    "        for j in range(num_examples):\n",
    "            \n",
    "            # reshape an image pixels into a 28x28 matrix\n",
    "            # MNIST data set represent images in 28x28 pixels boxes            \n",
    "            image = images[i][j].reshape(28,28)\n",
    "            \n",
    "            # plot the image in the appropriate grid location\n",
    "            axes[i, j].axis('off')\n",
    "            axes[i, j].imshow(image, cmap='Greys')\n",
    "\n",
    "### STUDENT END ###\n",
    "\n",
    "P10(20)"
   ]
  },
  {
   "cell_type": "markdown",
   "metadata": {},
   "source": [
    "ANSWER: The generated digits look like digits printed on a printer with very low DPI... They only contain black pixels in the pixel locations most likely to be dark in a digit."
   ]
  },
  {
   "cell_type": "markdown",
   "metadata": {},
   "source": [
    "(11) Remember that a strongly calibrated classifier is rougly 90% accurate when the posterior probability of the predicted class is 0.9. A weakly calibrated classifier is more accurate when the posterior is 90% than when it is 80%. A poorly calibrated classifier has no positive correlation between posterior and accuracy.\n",
    "\n",
    "Train a BernoulliNB model with a reasonable alpha value. For each posterior bucket (think of a bin in a histogram), you want to estimate the classifier's accuracy. So for each prediction, find the bucket the maximum posterior belongs to and update the \"correct\" and \"total\" counters.\n",
    "\n",
    "How would you characterize the calibration for the Naive Bayes model?"
   ]
  },
  {
   "cell_type": "code",
   "execution_count": 110,
   "metadata": {},
   "outputs": [
    {
     "name": "stdout",
     "output_type": "stream",
     "text": [
      "p(pred) <= 0.5000000000000    total = 998    accuracy = 0.814\n",
      "p(pred) <= 0.9000000000000    total = 958    accuracy = 0.834\n",
      "p(pred) <= 0.9990000000000    total = 885    accuracy = 0.864\n",
      "p(pred) <= 0.9999900000000    total = 822    accuracy = 0.888\n",
      "p(pred) <= 0.9999999000000    total = 761    accuracy = 0.909\n",
      "p(pred) <= 0.9999999990000    total = 710    accuracy = 0.928\n",
      "p(pred) <= 0.9999999999900    total = 671    accuracy = 0.940\n",
      "p(pred) <= 0.9999999999999    total = 616    accuracy = 0.953\n",
      "p(pred) <= 1.0000000000000    total = 586    accuracy = 0.954\n"
     ]
    }
   ],
   "source": [
    "from __future__ import division\n",
    "def P11(buckets, correct, total):\n",
    "    \n",
    "### STUDENT START ###\n",
    "\n",
    "    # convert the pixels to ones & zeros\n",
    "    def binarize_func(val):\n",
    "        if val >= 0.5:\n",
    "            return 1\n",
    "        else:\n",
    "            return 0\n",
    "    \n",
    "    binarize = np.vectorize(binarize_func)\n",
    "    binary_train_data = binarize(train_data)\n",
    "    \n",
    "    # fit a simple bernoulli classifier\n",
    "    model = BernoulliNB(alpha=.001)\n",
    "    model.fit(binary_train_data, train_labels)\n",
    "    \n",
    "    # make predictions on dev data, and store probabilities for each class\n",
    "    prediction_probas = model.predict_proba(dev_data)\n",
    "    predictions = model.predict(dev_data)\n",
    "    \n",
    "    # for each image in the dev set\n",
    "    for i in range(len(prediction_probas)):\n",
    "        \n",
    "        # see which bucket the prediction falls into, and increment bucket total count\n",
    "        for j in reversed(range(len(buckets))):\n",
    "            if max(prediction_probas[i]) >= buckets[j]:\n",
    "                total[j] += 1\n",
    "                \n",
    "                # if the prediction was correct, increment correct tally for the bucket\n",
    "                if predictions[i] == dev_labels[i]:\n",
    "                    correct[j] += 1\n",
    "                \n",
    "### STUDENT END ###\n",
    "\n",
    "buckets = [0.5, 0.9, 0.999, 0.99999, 0.9999999, 0.999999999, 0.99999999999, 0.9999999999999, 1.0]\n",
    "correct = [0 for i in buckets]\n",
    "total = [0 for i in buckets]\n",
    "\n",
    "P11(buckets, correct, total)\n",
    "\n",
    "for i in range(len(buckets)):\n",
    "    accuracy = 0.0\n",
    "    if (total[i] > 0): accuracy = correct[i] / total[i]\n",
    "    print 'p(pred) <= %.13f    total = %3d    accuracy = %.3f' %(buckets[i], total[i], accuracy)"
   ]
  },
  {
   "cell_type": "markdown",
   "metadata": {},
   "source": [
    "ANSWER: I would characterize it as weakly calibrated. The accuracies do not match the posterior probabilities, so it's not strong. However, the accuracies do increase with increasing posteriors, so it's at least weakly calibrated."
   ]
  },
  {
   "cell_type": "markdown",
   "metadata": {},
   "source": [
    "(12) EXTRA CREDIT\n",
    "\n",
    "Try designing extra features to see if you can improve the performance of Naive Bayes on the dev set. Here are a few ideas to get you started:\n",
    "- Try summing the pixel values in each row and each column.\n",
    "- Try counting the number of enclosed regions; 8 usually has 2 enclosed regions, 9 usually has 1, and 7 usually has 0.\n",
    "\n",
    "Make sure you comment your code well!"
   ]
  },
  {
   "cell_type": "code",
   "execution_count": 18,
   "metadata": {
    "collapsed": true
   },
   "outputs": [],
   "source": [
    "#def P12():\n",
    "\n",
    "### STUDENT START ###\n",
    "\n",
    "# Ran out of time, sorry :(\n",
    "\n",
    "### STUDENT END ###\n",
    "\n",
    "#P12()"
   ]
  }
 ],
 "metadata": {
  "kernelspec": {
   "display_name": "Python 2",
   "language": "python",
   "name": "python2"
  },
  "language_info": {
   "codemirror_mode": {
    "name": "ipython",
    "version": 2
   },
   "file_extension": ".py",
   "mimetype": "text/x-python",
   "name": "python",
   "nbconvert_exporter": "python",
   "pygments_lexer": "ipython2",
   "version": "2.7.13"
  }
 },
 "nbformat": 4,
 "nbformat_minor": 1
}
